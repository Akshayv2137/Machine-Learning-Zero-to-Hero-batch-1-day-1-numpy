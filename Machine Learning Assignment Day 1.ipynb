{
 "cells": [
  {
   "cell_type": "code",
   "execution_count": null,
   "id": "80741858",
   "metadata": {},
   "outputs": [],
   "source": [
    "1.Create an array of integers between -10 and 10"
   ]
  },
  {
   "cell_type": "code",
   "execution_count": 2,
   "id": "13a7bc47",
   "metadata": {},
   "outputs": [
    {
     "name": "stdout",
     "output_type": "stream",
     "text": [
      "[-10, -9, -8, -7, -6, -5, -4, -3, -2, -1, 0, 1, 2, 3, 4, 5, 6, 7, 8, 9]\n"
     ]
    }
   ],
   "source": [
    "a_list = list(range(-10, 10))\n",
    "\n",
    "print(a_list)"
   ]
  },
  {
   "cell_type": "code",
   "execution_count": null,
   "id": "0645ce00",
   "metadata": {},
   "outputs": [],
   "source": [
    "2.Run the following code to create a NumPy array D\n",
    "D = np.array(range(18)) + 3\n",
    "(a) Extract every other value from array D starting from the 2nd value through the 10th value. Store the result in a variable called x.\n",
    "(b) Extract every other value from array D starting from the 10th value through the 2nd value. Store the result in a variable called y.\n",
    "(c) Create a variable z that contains all of the values in D in reverse order."
   ]
  },
  {
   "cell_type": "code",
   "execution_count": 23,
   "id": "c3c9093f",
   "metadata": {},
   "outputs": [
    {
     "name": "stdout",
     "output_type": "stream",
     "text": [
      "D [ 3  4  5  6  7  8  9 10 11 12 13 14 15 16 17 18 19 20]\n",
      "x [ 5  6  7  8  9 10 11 12 13]\n",
      "y [13 12 11 10  9  8  7  6  5]\n",
      "z [20 19 18 17 16 15 14 13 12 11 10  9  8  7  6  5  4  3]\n"
     ]
    }
   ],
   "source": [
    "import numpy as np\n",
    "D = np.array(range(18)) + 3\n",
    "\n",
    "print(\"D\",D)\n",
    "x = D[2:11]\n",
    "print(\"x\",x)\n",
    "\n",
    "y = x[::-1]\n",
    "print(\"y\",y)\n",
    "\n",
    "z = D[::-1]\n",
    "print(\"z\",z)\n",
    "#x = np.range(2,10)"
   ]
  },
  {
   "cell_type": "code",
   "execution_count": 24,
   "id": "97f0523e",
   "metadata": {},
   "outputs": [],
   "source": [
    "#3. How are NumPy Arrays better than Lists in Python?  "
   ]
  },
  {
   "cell_type": "code",
   "execution_count": null,
   "id": "7fefecf0",
   "metadata": {},
   "outputs": [],
   "source": [
    " Ans : list: A list is a collection which is ordered and changeable.\n",
    "NumPy :the fundamental package for scientific computing in Python.\n",
    " Size - Numpy data structures take up less space\n",
    "Performance - they have a need for speed and are faster than lists\n",
    "NumPy is not just more efficient; it is also more convenient.\n",
    "You get a lot of vector and matrix operations for free, which sometimes allow one to avoid unnecessary work. \n",
    "And they are also efficiently implemented.\n",
    "thats why NumPy Arrays better than Lists in Python"
   ]
  },
  {
   "cell_type": "code",
   "execution_count": null,
   "id": "41af3fcc",
   "metadata": {},
   "outputs": [],
   "source": [
    "4. Explain the data types supported by Numpy. "
   ]
  },
  {
   "cell_type": "code",
   "execution_count": null,
   "id": "3603c3c5",
   "metadata": {},
   "outputs": [],
   "source": [
    "i - integer\n",
    "b - boolean\n",
    "u - unsigned integer\n",
    "f - float\n",
    "c - complex float\n",
    "m - timedelta\n",
    "M - datetime\n",
    "O - object\n",
    "S - string\n",
    "U - unicode string\n",
    "V - fixed chunk of memory for other type ( void )"
   ]
  }
 ],
 "metadata": {
  "kernelspec": {
   "display_name": "Python 3 (ipykernel)",
   "language": "python",
   "name": "python3"
  },
  "language_info": {
   "codemirror_mode": {
    "name": "ipython",
    "version": 3
   },
   "file_extension": ".py",
   "mimetype": "text/x-python",
   "name": "python",
   "nbconvert_exporter": "python",
   "pygments_lexer": "ipython3",
   "version": "3.9.7"
  }
 },
 "nbformat": 4,
 "nbformat_minor": 5
}
