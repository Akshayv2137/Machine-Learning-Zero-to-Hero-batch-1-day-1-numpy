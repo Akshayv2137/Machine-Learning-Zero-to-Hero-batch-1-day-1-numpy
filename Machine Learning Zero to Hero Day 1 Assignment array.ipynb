{
 "cells": [
  {
   "cell_type": "code",
   "execution_count": 1,
   "id": "de8134b6",
   "metadata": {},
   "outputs": [],
   "source": [
    "### Assignment day 1 from Akshay Vinayak Raut\n",
    "import numpy as np"
   ]
  },
  {
   "cell_type": "code",
   "execution_count": 3,
   "id": "2958432f",
   "metadata": {},
   "outputs": [],
   "source": [
    "a=np.random.randint(10,50, (6,5))"
   ]
  },
  {
   "cell_type": "code",
   "execution_count": 4,
   "id": "2538f5da",
   "metadata": {},
   "outputs": [
    {
     "data": {
      "text/plain": [
       "array([[49, 34, 13, 28, 44],\n",
       "       [49, 18, 14, 27, 21],\n",
       "       [47, 30, 49, 38, 34],\n",
       "       [34, 31, 25, 37, 16],\n",
       "       [32, 47, 32, 44, 40],\n",
       "       [31, 23, 42, 11, 39]])"
      ]
     },
     "execution_count": 4,
     "metadata": {},
     "output_type": "execute_result"
    }
   ],
   "source": [
    "a"
   ]
  },
  {
   "cell_type": "code",
   "execution_count": 5,
   "id": "81733a90",
   "metadata": {},
   "outputs": [],
   "source": [
    "### print index row (2,4) , column (2=<)"
   ]
  },
  {
   "cell_type": "code",
   "execution_count": 9,
   "id": "aaee3c3b",
   "metadata": {},
   "outputs": [
    {
     "data": {
      "text/plain": [
       "array([[49, 38, 34],\n",
       "       [25, 37, 16]])"
      ]
     },
     "execution_count": 9,
     "metadata": {},
     "output_type": "execute_result"
    }
   ],
   "source": [
    "a[2:4,2:]"
   ]
  },
  {
   "cell_type": "code",
   "execution_count": null,
   "id": "4e50ba8b",
   "metadata": {},
   "outputs": [],
   "source": []
  },
  {
   "cell_type": "code",
   "execution_count": null,
   "id": "323c7c2b",
   "metadata": {},
   "outputs": [],
   "source": []
  }
 ],
 "metadata": {
  "kernelspec": {
   "display_name": "Python 3 (ipykernel)",
   "language": "python",
   "name": "python3"
  },
  "language_info": {
   "codemirror_mode": {
    "name": "ipython",
    "version": 3
   },
   "file_extension": ".py",
   "mimetype": "text/x-python",
   "name": "python",
   "nbconvert_exporter": "python",
   "pygments_lexer": "ipython3",
   "version": "3.9.7"
  }
 },
 "nbformat": 4,
 "nbformat_minor": 5
}
